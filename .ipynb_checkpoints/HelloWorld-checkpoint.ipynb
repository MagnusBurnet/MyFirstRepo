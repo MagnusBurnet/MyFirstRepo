{
 "cells": [
  {
   "cell_type": "code",
   "execution_count": 1,
   "id": "ac723683-6fd1-49ef-88a1-300a9b097eb6",
   "metadata": {},
   "outputs": [
    {
     "name": "stdout",
     "output_type": "stream",
     "text": [
      "hello world\n"
     ]
    }
   ],
   "source": [
    "print (\"hello world\")\n"
   ]
  },
  {
   "cell_type": "markdown",
   "id": "d1b6fa0d-56be-452e-91f3-625227403003",
   "metadata": {},
   "source": [
    "#my first markdown"
   ]
  },
  {
   "cell_type": "markdown",
   "id": "de4fd0fe-8ec4-4dc7-a8fc-06a7dbaa8d9c",
   "metadata": {},
   "source": [
    "## my second markdown"
   ]
  },
  {
   "cell_type": "markdown",
   "id": "d48329cc-0609-41b3-b1be-067c2c8c7100",
   "metadata": {},
   "source": [
    "# my first markdown"
   ]
  },
  {
   "cell_type": "markdown",
   "id": "74a982a2-7f7c-4762-b69a-2cae69159a9f",
   "metadata": {},
   "source": [
    "this is some **bold** text"
   ]
  },
  {
   "cell_type": "markdown",
   "id": "354aafad-14af-41ec-9fb5-14b2f18cee34",
   "metadata": {},
   "source": [
    "1. first\n",
    "2. second\n",
    "3. third"
   ]
  },
  {
   "cell_type": "markdown",
   "id": "4bf4384b-31c4-4181-9fdf-024dd9c8e1d3",
   "metadata": {},
   "source": [
    ". first \n",
    ". Second\n",
    ". Third"
   ]
  },
  {
   "cell_type": "code",
   "execution_count": 12,
   "id": "f10ce7d3-c27c-4294-a0a2-adc35ea5b0e9",
   "metadata": {},
   "outputs": [],
   "source": [
    "my_var = 5"
   ]
  },
  {
   "cell_type": "code",
   "execution_count": 13,
   "id": "73551588-96e4-45ac-a5ef-5012b659de05",
   "metadata": {},
   "outputs": [
    {
     "name": "stdout",
     "output_type": "stream",
     "text": [
      "10\n"
     ]
    }
   ],
   "source": [
    "result = my_var*2\n",
    "print(result)"
   ]
  },
  {
   "cell_type": "code",
   "execution_count": null,
   "id": "be9d9723-09b0-45cb-a622-9f4f3ce73854",
   "metadata": {},
   "outputs": [],
   "source": []
  }
 ],
 "metadata": {
  "kernelspec": {
   "display_name": "Python 3 (ipykernel)",
   "language": "python",
   "name": "python3"
  },
  "language_info": {
   "codemirror_mode": {
    "name": "ipython",
    "version": 3
   },
   "file_extension": ".py",
   "mimetype": "text/x-python",
   "name": "python",
   "nbconvert_exporter": "python",
   "pygments_lexer": "ipython3",
   "version": "3.10.9"
  }
 },
 "nbformat": 4,
 "nbformat_minor": 5
}
